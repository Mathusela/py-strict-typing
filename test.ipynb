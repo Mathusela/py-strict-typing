{
 "cells": [
  {
   "cell_type": "code",
   "execution_count": 1,
   "metadata": {},
   "outputs": [],
   "source": [
    "from strict_typing import typed\n",
    "from typing import Callable"
   ]
  },
  {
   "cell_type": "code",
   "execution_count": 2,
   "metadata": {},
   "outputs": [],
   "source": [
    "@typed(True)\n",
    "def pow(x: float, y: float) -> int:\n",
    "    return x**y"
   ]
  },
  {
   "cell_type": "code",
   "execution_count": 3,
   "metadata": {},
   "outputs": [],
   "source": [
    "@typed(True)\n",
    "def wrapper(func: Callable, *args):\n",
    "\tprint(\">>\")\n",
    "\tprint(out := func(*args))\n",
    "\tprint(\"<<\")\n",
    "\treturn out"
   ]
  },
  {
   "cell_type": "code",
   "execution_count": 4,
   "metadata": {},
   "outputs": [
    {
     "name": "stdout",
     "output_type": "stream",
     "text": [
      ">>\n",
      "100\n",
      "<<\n"
     ]
    },
    {
     "name": "stderr",
     "output_type": "stream",
     "text": [
      "WARNING in function 'pow': Implicit cast of argument 'x' of typed function 'pow', from type 'int' to expected type 'float'.\n",
      "WARNING in function 'pow': Implicit cast of argument 'y' of typed function 'pow', from type 'int' to expected type 'float'.\n",
      "WARNING in function 'pow': Implicit cast of return value of typed function 'pow', from type 'float' to expected type 'int'.\n"
     ]
    },
    {
     "data": {
      "text/plain": [
       "100"
      ]
     },
     "execution_count": 4,
     "metadata": {},
     "output_type": "execute_result"
    }
   ],
   "source": [
    "wrapper(pow, 10, 2)"
   ]
  },
  {
   "cell_type": "code",
   "execution_count": 5,
   "metadata": {},
   "outputs": [],
   "source": [
    "number = int | float\n",
    "\n",
    "@typed(True)\n",
    "def test(x: number):\n",
    "\treturn x"
   ]
  },
  {
   "cell_type": "code",
   "execution_count": 6,
   "metadata": {},
   "outputs": [
    {
     "name": "stdout",
     "output_type": "stream",
     "text": [
      "1\n",
      "1.0\n"
     ]
    },
    {
     "ename": "TypeError",
     "evalue": "ERROR in function 'test': Argument 'x' of typed function 'test' is type 'str' when type 'int | float' is expected.",
     "output_type": "error",
     "traceback": [
      "\u001b[1;31m---------------------------------------------------------------------------\u001b[0m",
      "\u001b[1;31mTypeError\u001b[0m                                 Traceback (most recent call last)",
      "\u001b[1;32md:\\Programming\\Python\\StrictTyping\\test.ipynb Cell 6\u001b[0m line \u001b[0;36m<cell line: 3>\u001b[1;34m()\u001b[0m\n\u001b[0;32m      <a href='vscode-notebook-cell:/d%3A/Programming/Python/StrictTyping/test.ipynb#W5sZmlsZQ%3D%3D?line=0'>1</a>\u001b[0m \u001b[39mprint\u001b[39m(test(\u001b[39m1\u001b[39m))\n\u001b[0;32m      <a href='vscode-notebook-cell:/d%3A/Programming/Python/StrictTyping/test.ipynb#W5sZmlsZQ%3D%3D?line=1'>2</a>\u001b[0m \u001b[39mprint\u001b[39m(test(\u001b[39m1.0\u001b[39m))\n\u001b[1;32m----> <a href='vscode-notebook-cell:/d%3A/Programming/Python/StrictTyping/test.ipynb#W5sZmlsZQ%3D%3D?line=2'>3</a>\u001b[0m \u001b[39mprint\u001b[39m(test(\u001b[39m\"\u001b[39;49m\u001b[39mHello\u001b[39;49m\u001b[39m\"\u001b[39;49m))\n",
      "File \u001b[1;32md:\\Programming\\Python\\StrictTyping\\strict_typing.py:39\u001b[0m, in \u001b[0;36mtyped.<locals>.decorator.<locals>.wrapper\u001b[1;34m(*args)\u001b[0m\n\u001b[0;32m     37\u001b[0m \t\t\u001b[39mpass\u001b[39;00m\n\u001b[0;32m     38\u001b[0m \t\u001b[39mif\u001b[39;00m error:\n\u001b[1;32m---> 39\u001b[0m \t\t\u001b[39mraise\u001b[39;00m \u001b[39mTypeError\u001b[39;00m(\u001b[39mf\u001b[39m\u001b[39m\"\u001b[39m\u001b[39mERROR in function \u001b[39m\u001b[39m'\u001b[39m\u001b[39m{\u001b[39;00mfunc\u001b[39m.\u001b[39m\u001b[39m__name__\u001b[39m\u001b[39m}\u001b[39;00m\u001b[39m'\u001b[39m\u001b[39m: Argument \u001b[39m\u001b[39m'\u001b[39m\u001b[39m{\u001b[39;00margName\u001b[39m}\u001b[39;00m\u001b[39m'\u001b[39m\u001b[39m of typed function \u001b[39m\u001b[39m'\u001b[39m\u001b[39m{\u001b[39;00mfunc\u001b[39m.\u001b[39m\u001b[39m__name__\u001b[39m\u001b[39m}\u001b[39;00m\u001b[39m'\u001b[39m\u001b[39m is type \u001b[39m\u001b[39m'\u001b[39m\u001b[39m{\u001b[39;00mactualName\u001b[39m}\u001b[39;00m\u001b[39m'\u001b[39m\u001b[39m when type \u001b[39m\u001b[39m'\u001b[39m\u001b[39m{\u001b[39;00mexpectedName\u001b[39m}\u001b[39;00m\u001b[39m'\u001b[39m\u001b[39m is expected.\u001b[39m\u001b[39m\"\u001b[39m)\n\u001b[0;32m     40\u001b[0m \u001b[39m# Add new argument to newArgs\u001b[39;00m\n\u001b[0;32m     41\u001b[0m newArgs\u001b[39m.\u001b[39mappend(arg)\n",
      "\u001b[1;31mTypeError\u001b[0m: ERROR in function 'test': Argument 'x' of typed function 'test' is type 'str' when type 'int | float' is expected."
     ]
    }
   ],
   "source": [
    "print(test(1))\n",
    "print(test(1.0))\n",
    "print(test(\"Hello\"))"
   ]
  },
  {
   "cell_type": "code",
   "execution_count": 7,
   "metadata": {},
   "outputs": [],
   "source": [
    "def func1(x: int, y: int) -> int:\n",
    "    return x + y\n",
    "\n",
    "@typed(True)\n",
    "def func2(x: int, y: int) -> int:\n",
    "    return x + y"
   ]
  },
  {
   "cell_type": "code",
   "execution_count": 8,
   "metadata": {},
   "outputs": [
    {
     "name": "stdout",
     "output_type": "stream",
     "text": [
      "func1: Hello World!\n"
     ]
    },
    {
     "ename": "TypeError",
     "evalue": "ERROR in function 'func2': Argument 'x' of typed function 'func2' is type 'str' when type 'int' is expected.",
     "output_type": "error",
     "traceback": [
      "\u001b[1;31m---------------------------------------------------------------------------\u001b[0m",
      "\u001b[1;31mTypeError\u001b[0m                                 Traceback (most recent call last)",
      "\u001b[1;32md:\\Programming\\Python\\StrictTyping\\test.ipynb Cell 8\u001b[0m line \u001b[0;36m<cell line: 2>\u001b[1;34m()\u001b[0m\n\u001b[0;32m      <a href='vscode-notebook-cell:/d%3A/Programming/Python/StrictTyping/test.ipynb#X10sZmlsZQ%3D%3D?line=0'>1</a>\u001b[0m \u001b[39mprint\u001b[39m(\u001b[39m\"\u001b[39m\u001b[39mfunc1:\u001b[39m\u001b[39m\"\u001b[39m, func1(\u001b[39m\"\u001b[39m\u001b[39mHello\u001b[39m\u001b[39m\"\u001b[39m, \u001b[39m\"\u001b[39m\u001b[39m World!\u001b[39m\u001b[39m\"\u001b[39m))\n\u001b[1;32m----> <a href='vscode-notebook-cell:/d%3A/Programming/Python/StrictTyping/test.ipynb#X10sZmlsZQ%3D%3D?line=1'>2</a>\u001b[0m \u001b[39mprint\u001b[39m(\u001b[39m\"\u001b[39m\u001b[39mfunc2:\u001b[39m\u001b[39m\"\u001b[39m, func2(\u001b[39m\"\u001b[39;49m\u001b[39mHello\u001b[39;49m\u001b[39m\"\u001b[39;49m, \u001b[39m\"\u001b[39;49m\u001b[39m World!\u001b[39;49m\u001b[39m\"\u001b[39;49m))\n",
      "File \u001b[1;32md:\\Programming\\Python\\StrictTyping\\strict_typing.py:39\u001b[0m, in \u001b[0;36mtyped.<locals>.decorator.<locals>.wrapper\u001b[1;34m(*args)\u001b[0m\n\u001b[0;32m     37\u001b[0m \t\t\u001b[39mpass\u001b[39;00m\n\u001b[0;32m     38\u001b[0m \t\u001b[39mif\u001b[39;00m error:\n\u001b[1;32m---> 39\u001b[0m \t\t\u001b[39mraise\u001b[39;00m \u001b[39mTypeError\u001b[39;00m(\u001b[39mf\u001b[39m\u001b[39m\"\u001b[39m\u001b[39mERROR in function \u001b[39m\u001b[39m'\u001b[39m\u001b[39m{\u001b[39;00mfunc\u001b[39m.\u001b[39m\u001b[39m__name__\u001b[39m\u001b[39m}\u001b[39;00m\u001b[39m'\u001b[39m\u001b[39m: Argument \u001b[39m\u001b[39m'\u001b[39m\u001b[39m{\u001b[39;00margName\u001b[39m}\u001b[39;00m\u001b[39m'\u001b[39m\u001b[39m of typed function \u001b[39m\u001b[39m'\u001b[39m\u001b[39m{\u001b[39;00mfunc\u001b[39m.\u001b[39m\u001b[39m__name__\u001b[39m\u001b[39m}\u001b[39;00m\u001b[39m'\u001b[39m\u001b[39m is type \u001b[39m\u001b[39m'\u001b[39m\u001b[39m{\u001b[39;00mactualName\u001b[39m}\u001b[39;00m\u001b[39m'\u001b[39m\u001b[39m when type \u001b[39m\u001b[39m'\u001b[39m\u001b[39m{\u001b[39;00mexpectedName\u001b[39m}\u001b[39;00m\u001b[39m'\u001b[39m\u001b[39m is expected.\u001b[39m\u001b[39m\"\u001b[39m)\n\u001b[0;32m     40\u001b[0m \u001b[39m# Add new argument to newArgs\u001b[39;00m\n\u001b[0;32m     41\u001b[0m newArgs\u001b[39m.\u001b[39mappend(arg)\n",
      "\u001b[1;31mTypeError\u001b[0m: ERROR in function 'func2': Argument 'x' of typed function 'func2' is type 'str' when type 'int' is expected."
     ]
    }
   ],
   "source": [
    "print(\"func1:\", func1(\"Hello\", \" World!\"))\n",
    "print(\"func2:\", func2(\"Hello\", \" World!\"))"
   ]
  },
  {
   "cell_type": "code",
   "execution_count": 9,
   "metadata": {},
   "outputs": [
    {
     "name": "stdout",
     "output_type": "stream",
     "text": [
      "func1: 3.3\n",
      "func2: 3\n"
     ]
    },
    {
     "name": "stderr",
     "output_type": "stream",
     "text": [
      "WARNING in function 'func2': Implicit cast of argument 'x' of typed function 'func2', from type 'float' to expected type 'int'.\n"
     ]
    }
   ],
   "source": [
    "print(\"func1:\", func1(1.3, 2))\n",
    "print(\"func2:\", func2(1.3, 2))"
   ]
  }
 ],
 "metadata": {
  "kernelspec": {
   "display_name": "Python 3",
   "language": "python",
   "name": "python3"
  },
  "language_info": {
   "codemirror_mode": {
    "name": "ipython",
    "version": 3
   },
   "file_extension": ".py",
   "mimetype": "text/x-python",
   "name": "python",
   "nbconvert_exporter": "python",
   "pygments_lexer": "ipython3",
   "version": "3.10.0"
  },
  "orig_nbformat": 4
 },
 "nbformat": 4,
 "nbformat_minor": 2
}
